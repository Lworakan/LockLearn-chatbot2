{
  "nbformat": 4,
  "nbformat_minor": 0,
  "metadata": {
    "colab": {
      "provenance": []
    },
    "kernelspec": {
      "name": "python3",
      "display_name": "Python 3"
    },
    "language_info": {
      "name": "python"
    }
  },
  "cells": [
    {
      "cell_type": "markdown",
      "source": [
        "Test error analysis"
      ],
      "metadata": {
        "id": "WCVVNzeJtMLd"
      }
    },
    {
      "cell_type": "markdown",
      "source": [
        "จะมาเปรียบเทียบว่าได้คะเเนนในเเต่ละส่วนเท่าไหร่"
      ],
      "metadata": {
        "id": "cDkj0wGotTBX"
      }
    },
    {
      "cell_type": "code",
      "execution_count": 1,
      "metadata": {
        "colab": {
          "base_uri": "https://localhost:8080/"
        },
        "id": "JD6XMaDCs54b",
        "outputId": "a3f58fac-586c-4703-a34d-d6dea8772e53"
      },
      "outputs": [
        {
          "output_type": "stream",
          "name": "stdout",
          "text": [
            "Mounted at /content/drive\n"
          ]
        }
      ],
      "source": [
        "from google.colab import drive\n",
        "drive.mount('/content/drive')\n"
      ]
    },
    {
      "cell_type": "code",
      "source": [
        "import json\n",
        "\n",
        "# 🔍 ชี้ path ตรงไปยังตำแหน่งไฟล์บน Google Drive\n",
        "ground_truth_path = \"/content/drive/MyDrive/LockLearn/evaluation_datasetv2.json\"\n",
        "rag_results_path = \"/content/drive/MyDrive/LockLearn/evaluation_rag_results_v2_BGE_M3_K=10.json\"\n",
        "\n",
        "# 🔄 โหลดข้อมูลจากไฟล์ JSON\n",
        "with open(ground_truth_path, \"r\", encoding=\"utf-8\") as f:\n",
        "    ground_truth_data = json.load(f)\n",
        "\n",
        "with open(rag_results_path, \"r\", encoding=\"utf-8\") as f:\n",
        "    rag_results_data = json.load(f)\n",
        "\n",
        "print(f\"✅ จำนวนตัวอย่างใน ground truth: {len(ground_truth_data)}\")\n",
        "print(f\"✅ จำนวนตัวอย่างใน RAG results: {len(rag_results_data)}\")\n"
      ],
      "metadata": {
        "id": "AQY14oGUtM2a"
      },
      "execution_count": null,
      "outputs": []
    },
    {
      "cell_type": "code",
      "source": [
        "import json\n",
        "import csv\n",
        "from difflib import SequenceMatcher\n",
        "from google.colab import drive\n",
        "\n",
        "# Mount Google Drive\n",
        "drive.mount('/content/drive')\n",
        "\n",
        "# ระบุ path ของไฟล์ใน Google Drive\n",
        "ground_truth_path = '/content/drive/MyDrive/LockLearn/evaluation_datasetv2.json'\n",
        "rag_results_path = '/content/drive/MyDrive/LockLearn/evaluation_rag_results_v2_BGE_M3_K=10.json'\n",
        "output_csv_path = '/content/drive/MyDrive/LockLearn/rag_error_analysis.csv'\n",
        "\n",
        "# โหลดไฟล์ JSON\n",
        "with open(ground_truth_path, 'r', encoding='utf-8') as f:\n",
        "    ground_truth = json.load(f)\n",
        "\n",
        "with open(rag_results_path, 'r', encoding='utf-8') as f:\n",
        "    rag_results = json.load(f)\n",
        "\n",
        "# ตรวจสอบว่าเป็น 1:1 mapping\n",
        "assert len(ground_truth) == len(rag_results)\n",
        "\n",
        "# สร้างไฟล์ CSV สำหรับวิเคราะห์ข้อผิดพลาด\n",
        "with open(output_csv_path, 'w', encoding='utf-8', newline='') as csvfile:\n",
        "    writer = csv.writer(csvfile)\n",
        "    writer.writerow([\n",
        "        'Index', 'Question', 'Ground Truth Answer', 'RAG Recommendations',\n",
        "        'Any Match?', 'Max Similarity to Ground Truth', 'Error Type'\n",
        "    ])\n",
        "\n",
        "    for i, (gt, rag) in enumerate(zip(ground_truth, rag_results), 1):\n",
        "        question = gt['question']\n",
        "        ground_truth_answer = gt['answer']\n",
        "        recommendations = rag['recommendations']\n",
        "\n",
        "        # ตรวจว่ามีคำแนะนำที่ตรงกับคำตอบจริงหรือไม่\n",
        "        matches = [rec for rec in recommendations if rec.strip() == ground_truth_answer.strip()]\n",
        "\n",
        "        # คำนวณ similarity\n",
        "        similarities = [SequenceMatcher(None, ground_truth_answer, rec).ratio() for rec in recommendations]\n",
        "        max_sim = max(similarities) if similarities else 0.0\n",
        "\n",
        "        # ประเภทของข้อผิดพลาด\n",
        "        if matches:\n",
        "            error_type = '✅ Exact Match'\n",
        "        elif max_sim >= 0.7:\n",
        "            error_type = '🟡 Similar Meaning'\n",
        "        elif max_sim >= 0.4:\n",
        "            error_type = '🔸 Weakly Related'\n",
        "        else:\n",
        "            error_type = '❌ Irrelevant'\n",
        "\n",
        "        writer.writerow([\n",
        "            i,\n",
        "            question,\n",
        "            ground_truth_answer,\n",
        "            \" | \".join(recommendations),\n",
        "            'Yes' if matches else 'No',\n",
        "            f\"{max_sim:.2f}\",\n",
        "            error_type\n",
        "        ])\n",
        "\n",
        "print(\"✅ Error analysis saved to:\", output_csv_path)\n"
      ],
      "metadata": {
        "colab": {
          "base_uri": "https://localhost:8080/"
        },
        "id": "yHDzRATRtP-w",
        "outputId": "1a8a5b9e-bc84-4f8a-c072-a256428b760e"
      },
      "execution_count": 2,
      "outputs": [
        {
          "output_type": "stream",
          "name": "stdout",
          "text": [
            "Drive already mounted at /content/drive; to attempt to forcibly remount, call drive.mount(\"/content/drive\", force_remount=True).\n",
            "✅ Error analysis saved to: /content/drive/MyDrive/LockLearn/rag_error_analysis.csv\n"
          ]
        }
      ]
    },
    {
      "cell_type": "code",
      "source": [
        "from collections import Counter\n",
        "\n",
        "error_types = []\n",
        "\n",
        "for gt, rag in zip(ground_truth, rag_results):\n",
        "    ground_truth_answer = gt['answer']\n",
        "    recommendations = rag['recommendations']\n",
        "    matches = [rec for rec in recommendations if rec.strip() == ground_truth_answer.strip()]\n",
        "    similarities = [SequenceMatcher(None, ground_truth_answer, rec).ratio() for rec in recommendations]\n",
        "    max_sim = max(similarities) if similarities else 0.0\n",
        "\n",
        "    if matches:\n",
        "        error_type = 'Exact Match'\n",
        "    elif max_sim >= 0.7:\n",
        "        error_type = 'Similar Meaning'\n",
        "    elif max_sim >= 0.4:\n",
        "        error_type = 'Weakly Related'\n",
        "    else:\n",
        "        error_type = 'Irrelevant'\n",
        "\n",
        "    error_types.append(error_type)\n",
        "\n",
        "summary = Counter(error_types)\n",
        "print(\"📊 Error Type Summary:\")\n",
        "for etype, count in summary.items():\n",
        "    print(f\"{etype}: {count} ({count / len(ground_truth):.2%})\")\n"
      ],
      "metadata": {
        "colab": {
          "base_uri": "https://localhost:8080/"
        },
        "id": "Frm1iH2CtSSB",
        "outputId": "3de6b97d-8215-4202-9214-e2421963d37b"
      },
      "execution_count": 3,
      "outputs": [
        {
          "output_type": "stream",
          "name": "stdout",
          "text": [
            "📊 Error Type Summary:\n",
            "Weakly Related: 256 (18.69%)\n",
            "Exact Match: 923 (67.37%)\n",
            "Irrelevant: 190 (13.87%)\n",
            "Similar Meaning: 1 (0.07%)\n"
          ]
        }
      ]
    },
    {
      "cell_type": "markdown",
      "source": [
        "ต่อมาเราจะดูข้อมูลเชิงลึกโดยใช้ข้อมูลจากที่ LLM judge มาเพื่อมาดูข้อผิดพลาด"
      ],
      "metadata": {
        "id": "pkCwISIDvPDC"
      }
    },
    {
      "cell_type": "code",
      "source": [
        "import json\n",
        "import re\n",
        "\n",
        "judgement_file = '/content/drive/MyDrive/LockLearn/llm_judgement_scores2.json'\n",
        "\n",
        "# โหลดข้อมูล\n",
        "with open(judgement_file, 'r', encoding='utf-8') as f:\n",
        "    data = json.load(f)\n",
        "\n",
        "# เตรียม pattern สำหรับจับคะแนน\n",
        "score_pattern = re.compile(r\"\\b([1-5])\\b\")\n"
      ],
      "metadata": {
        "id": "N0aWT4J_vXB8"
      },
      "execution_count": 5,
      "outputs": []
    },
    {
      "cell_type": "code",
      "source": [
        "low_score_items = []\n",
        "\n",
        "for item in data:\n",
        "    match = score_pattern.search(item['evaluation'])\n",
        "    if match:\n",
        "        score = int(match.group(1))\n",
        "        if score <= 3:\n",
        "            item['score'] = score\n",
        "            low_score_items.append(item)\n",
        "\n",
        "print(f\"จำนวนคำตอบที่ได้คะแนน 1–3: {len(low_score_items)}\")\n"
      ],
      "metadata": {
        "colab": {
          "base_uri": "https://localhost:8080/"
        },
        "id": "kxayGQp3vlBd",
        "outputId": "4166ec33-e33d-4bc3-a167-0486f920253c"
      },
      "execution_count": 6,
      "outputs": [
        {
          "output_type": "stream",
          "name": "stdout",
          "text": [
            "จำนวนคำตอบที่ได้คะแนน 1–3: 224\n"
          ]
        }
      ]
    },
    {
      "cell_type": "code",
      "source": [
        "def classify_error(evaluation_text):\n",
        "    text = evaluation_text.lower()\n",
        "    if \"off-topic\" in text or \"not address\" in text or \"miss the point\" in text:\n",
        "        return \"Off-topic\"\n",
        "    elif \"incorrect\" in text or \"wrong\" in text or \"factually\" in text:\n",
        "        return \"Incorrect Info\"\n",
        "    elif \"not supportive\" in text or \"lack of encouragement\" in text or \"no motivation\" in text:\n",
        "        return \"Missing Encouragement\"\n",
        "    elif \"tone\" in text or \"harsh\" in text or \"unfriendly\" in text:\n",
        "        return \"Harsh Tone\"\n",
        "    elif \"incomplete\" in text or \"missing details\" in text or \"not enough info\" in text or \"lacks depth\" in text:\n",
        "        return \"Incomplete\"\n",
        "    elif \"generic\" in text or \"vague\" in text:\n",
        "        return \"Too Generic\"\n",
        "    else:\n",
        "        return \"Other\"\n"
      ],
      "metadata": {
        "id": "_eO4Mc3zv3mE"
      },
      "execution_count": 9,
      "outputs": []
    },
    {
      "cell_type": "code",
      "source": [
        "import collections\n",
        "import matplotlib.pyplot as plt\n",
        "\n",
        "# นับจำนวนแต่ละ error type\n",
        "error_counts = collections.Counter([item['error_type'] for item in low_score_items])\n",
        "\n",
        "# แสดงจำนวนแต่ละ error type ใน console\n",
        "print(\"🔢 จำนวนข้อผิดพลาดแต่ละประเภท (คะแนน 1–3):\")\n",
        "for err_type, count in error_counts.items():\n",
        "    print(f\"{err_type}: {count}\")\n",
        "\n",
        "# พล็อตกราฟ\n",
        "plt.figure(figsize=(8, 5))\n",
        "bars = plt.bar(error_counts.keys(), error_counts.values(), color='salmon')\n",
        "\n",
        "# เพิ่มจำนวนบนแท่งกราฟ\n",
        "for bar in bars:\n",
        "    height = bar.get_height()\n",
        "    plt.text(bar.get_x() + bar.get_width()/2, height + 0.5, f'{int(height)}',\n",
        "             ha='center', va='bottom', fontsize=10)\n",
        "\n",
        "plt.xlabel(\"Error Type\")\n",
        "plt.ylabel(\"Error num\")\n",
        "plt.title(\"Error Type Distribution (Points 1–3)\")\n",
        "plt.xticks(rotation=45)\n",
        "plt.grid(axis='y', linestyle='--', alpha=0.7)\n",
        "plt.tight_layout()\n",
        "plt.show()\n"
      ],
      "metadata": {
        "colab": {
          "base_uri": "https://localhost:8080/",
          "height": 594
        },
        "id": "_9WRWpAFv5Og",
        "outputId": "88bb38c3-3ac2-444b-abe9-65d15ef76ad8"
      },
      "execution_count": 14,
      "outputs": [
        {
          "output_type": "stream",
          "name": "stdout",
          "text": [
            "🔢 จำนวนข้อผิดพลาดแต่ละประเภท (คะแนน 1–3):\n",
            "Other: 189\n",
            "Harsh Tone: 33\n",
            "Incomplete: 1\n",
            "Incorrect Info: 1\n"
          ]
        },
        {
          "output_type": "display_data",
          "data": {
            "text/plain": [
              "<Figure size 800x500 with 1 Axes>"
            ],
            "image/png": "[encoded data removed]"
          },
          "metadata": {}
        }
      ]
    },
    {
      "cell_type": "code",
      "source": [
        "print(\"\\n🔎 ตัวอย่างที่เข้า Other:\")\n",
        "for i, item in enumerate(low_score_items):\n",
        "    if item['error_type'] == 'Other':\n",
        "        print(f\"\\nExample {i+1}\")\n",
        "        print(\"📌 Question:\", item['question'])\n",
        "        print(\"🤖 Evaluation:\", item['evaluation'])\n",
        "        if i >= 5:  # ดูแค่ 5 อันพอ\n",
        "            break\n"
      ],
      "metadata": {
        "colab": {
          "base_uri": "https://localhost:8080/"
        },
        "id": "_eL_76fvwTUg",
        "outputId": "d8d6c740-7a0e-439c-f1b7-65ac592a89e0"
      },
      "execution_count": 11,
      "outputs": [
        {
          "output_type": "stream",
          "name": "stdout",
          "text": [
            "\n",
            "🔎 ตัวอย่างที่เข้า Other:\n",
            "\n",
            "Example 1\n",
            "📌 Question: How can I apply the principles of lasting change to different areas of my life, and what would be the potential impact on my personal growth, career, and the world around me?\n",
            "🤖 Evaluation: I would give the LLM-generated answer a score of 3. The answer is somewhat relevant but misses the key point of specifically applying the principles of lasting change to different areas of life, instead focusing on general personal growth and transformation.\n",
            "\n",
            "Example 2\n",
            "📌 Question: What if I made a promise to myself when I was younger, but now that I'm older, my priorities have completely changed - do I still owe it to myself to follow through on that old commitment, or is it okay to let it go?\n",
            "🤖 Evaluation: I would give the LLM-generated answer a score of 2. The answer acknowledges the importance of self-commitments but deviates from the ground truth by suggesting it's okay to let go of old promises, whereas the ground truth emphasizes following through on commitments to oneself.\n",
            "\n",
            "Example 3\n",
            "📌 Question: How can I cultivate a mindset that helps me make choices that truly align with my goals and values, and ultimately lead to a more fulfilling life?\n",
            "🤖 Evaluation: I would give a score of 3. The LLM-generated answer is somewhat relevant to the question, but it misses the key point of \"acquiring distinctions\" mentioned in the ground truth, and instead provides a more generic and vague approach to cultivating a mindset for making goal-aligned choices.\n",
            "\n",
            "Example 4\n",
            "📌 Question: What are some daily habits or routines that have contributed to your success, and how can I adapt them to fit my own goals and lifestyle?\n",
            "🤖 Evaluation: I would give the LLM-generated answer a score of 3. The answer provides some relevant advice on developing habits for success, but it doesn't directly address the idea of modeling the lives of people who are already succeeding in areas where you want to improve, which is the key idea of the ground truth.\n",
            "\n",
            "Example 5\n",
            "📌 Question: What did I used to be like in my younger years, and how can I summarize that into just one sentence per category?\n",
            "🤖 Evaluation: I would give the LLM-generated answer a score of 2. The response is overly verbose and fails to directly address the question, instead providing a generic reflection on personal growth, and does not provide a clear sentence summarizing the user's younger years per category as requested.\n",
            "\n",
            "Example 6\n",
            "📌 Question: What if I made a habit of really feeling whatever I'm feeling, instead of just going through the motions - could that actually make a difference in my life?\n",
            "🤖 Evaluation: I would give the LLM-generated answer a score of 3. The answer is somewhat relevant to the question, but it misses the key point of making a daily commitment to genuinely experience emotions, instead focusing on rewiring the brain and using movement to shift one's state.\n"
          ]
        }
      ]
    }
  ]
}