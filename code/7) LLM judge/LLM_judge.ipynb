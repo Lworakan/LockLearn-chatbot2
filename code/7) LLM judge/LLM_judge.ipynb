{
  "nbformat": 4,
  "nbformat_minor": 0,
  "metadata": {
    "colab": {
      "provenance": []
    },
    "kernelspec": {
      "name": "python3",
      "display_name": "Python 3"
    },
    "language_info": {
      "name": "python"
    }
  },
  "cells": [
    {
      "cell_type": "markdown",
      "source": [
        "# LLM judge\n",
        "เราจะทำโดยการนำข้อมุลทีทำการ embedding มาให้ LLM ในการตอบ\n",
        "เเล้วจากนั้นเราจะใช้ LLM มาตรวจสอบว่ามันได้คะเเนนเท่าไหร่เมื่อเทียบกับคำตอบจริง"
      ],
      "metadata": {
        "id": "SsXTknSWuQLk"
      }
    },
    {
      "cell_type": "code",
      "execution_count": 1,
      "metadata": {
        "colab": {
          "base_uri": "https://localhost:8080/"
        },
        "id": "i9q0r6g6uHHj",
        "outputId": "2d1cf676-654a-4326-a327-1d3449d8a40c"
      },
      "outputs": [
        {
          "output_type": "stream",
          "name": "stdout",
          "text": [
            "Mounted at /content/drive\n"
          ]
        }
      ],
      "source": [
        "from google.colab import drive\n",
        "drive.mount('/content/drive')\n"
      ]
    },
    {
      "cell_type": "markdown",
      "source": [
        "ใช้โมเดล paraphrase-multilingual-mpnet-base-v2"
      ],
      "metadata": {
        "id": "IjXvgAq3ujfA"
      }
    },
    {
      "cell_type": "code",
      "source": [
        "import requests\n",
        "import time\n",
        "import json\n",
        "import os\n",
        "\n",
        "# 🔑 API Key สำหรับ Together\n",
        "api_key = \"tgp_v1_LXgDAG8aW34FbMfCN4zs9Hmdl7hQNz0Ewb-PO5obx1E\"  # 👈 ใส่ Together API Key ของคุณตรงนี้\n",
        "\n",
        "# 🚀 โหลดไฟล์คำถามพร้อม RAG Recommendations\n",
        "input_file = '/content/drive/MyDrive/LockLearn/evaluation_rag_results_v2_SBERT_K=10.json'\n",
        "output_file = '/content/drive/MyDrive/LockLearn/optimized_answers_Llama4_scout SBERT.json'\n",
        "\n",
        "# 📂 โหลดข้อมูลจากไฟล์\n",
        "with open(input_file, 'r', encoding='utf-8') as f:\n",
        "    data = json.load(f)\n",
        "\n",
        "# 🚀 โหลดผลลัพธ์ล่าสุด (ถ้ามี)\n",
        "if os.path.exists(output_file):\n",
        "    with open(output_file, 'r', encoding='utf-8') as f:\n",
        "        processed_answers = json.load(f)\n",
        "        processed_ids = set([item['question'] for item in processed_answers])\n",
        "else:\n",
        "    processed_answers = []\n",
        "    processed_ids = set()\n",
        "\n",
        "# 🔁 ฟังก์ชันเรียก API พร้อม retry และ timeout ลดลง\n",
        "def request_with_retry(json_data, retries=3, delay=5):\n",
        "    headers = {\n",
        "        \"Content-Type\": \"application/json\",\n",
        "        \"Authorization\": f\"Bearer {api_key}\"\n",
        "    }\n",
        "\n",
        "    for attempt in range(retries):\n",
        "        try:\n",
        "            response = requests.post(\n",
        "                \"https://api.together.xyz/v1/chat/completions\",\n",
        "                headers=headers,\n",
        "                json=json_data,\n",
        "                timeout=15  # ลด timeout ลงเหลือ 15 วินาที\n",
        "            )\n",
        "            if response.status_code == 200:\n",
        "                answer = response.json()[\"choices\"][0][\"message\"][\"content\"].strip()\n",
        "                if len(answer) > 20:  # ตรวจสอบความยาวคำตอบ\n",
        "                    return answer\n",
        "            print(f\"❌ Error (Status {response.status_code}): {response.text}\")\n",
        "            time.sleep(delay)\n",
        "        except requests.exceptions.RequestException as e:\n",
        "            print(f\"❌ Connection Error: {e}\")\n",
        "            time.sleep(delay)\n",
        "    return \"\"\n",
        "\n",
        "# 🚀 ประมวลผลคำถามที่ยังไม่ได้ตอบ\n",
        "for item in data:\n",
        "    if item['question'] in processed_ids:\n",
        "        continue\n",
        "\n",
        "    prompt = (\n",
        "        f\"Question: {item['question']}\\n\"\n",
        "        f\"Recommendations:\\n\"\n",
        "    )\n",
        "    for rec in item.get('recommendations', []):\n",
        "        prompt += f\"- {rec}\\n\"\n",
        "\n",
        "    prompt += \"\"\"\n",
        "\n",
        "Please generate a supportive, practical, and encouraging response based on the suggestions above.\n",
        "Respond in the **same language** as the user's question:\n",
        "- Thai if the question is in Thai.\n",
        "- English if the question is in English.\n",
        "\n",
        "Make your answer concise and natural, like a caring life coach giving motivation in just 2-3 sentences. Keep it positive and uplifting.\n",
        "\n",
        "\"\"\"\n",
        "\n",
        "    json_data = {\n",
        "        \"model\": \"meta-llama/llama-4-scout-17b-16e-instruct\",\n",
        "        \"messages\": [{\"role\": \"user\", \"content\": prompt}]\n",
        "    }\n",
        "\n",
        "    answer = request_with_retry(json_data)\n",
        "\n",
        "    if answer:\n",
        "        processed_answers.append({\n",
        "            \"question\": item['question'],\n",
        "            \"answer\": answer,\n",
        "            \"category\": item.get('category', '')\n",
        "        })\n",
        "        processed_ids.add(item['question'])\n",
        "\n",
        "        # 💾 บันทึกผลลัพธ์ทันที\n",
        "        with open(output_file, 'w', encoding='utf-8') as f:\n",
        "            json.dump(processed_answers, f, ensure_ascii=False, indent=4)\n",
        "\n",
        "        print(f\"✅ บันทึกคำตอบล่าสุด ({len(processed_answers)})\")\n",
        "\n",
        "print(\"✅ เสร็จสิ้นการประมวลผล\")"
      ],
      "metadata": {
        "id": "wrEtoXrluo32"
      },
      "execution_count": null,
      "outputs": []
    },
    {
      "cell_type": "code",
      "source": [
        "import json\n",
        "import requests\n",
        "import time\n",
        "\n",
        "api_key = \"tgp_v1_5jt9Vq3S7zUxuoY--2rmrzvziTcl-1cWw8p8Yaetb8w\"  # แทนด้วย API Key ของคุณ\n",
        "\n",
        "llm_answers_file = '/content/drive/MyDrive/LockLearn/optimized_answers_Llama4_scout SBERT.json'\n",
        "ground_truth_file = '/content/drive/MyDrive/LockLearn/evaluation_datasetv2.json'\n",
        "judgement_output_file = '/content/drive/MyDrive/LockLearn/llm_judgement_scores2.json'\n",
        "\n",
        "# โหลดคำตอบ\n",
        "with open(llm_answers_file, 'r', encoding='utf-8') as f:\n",
        "    llm_answers = json.load(f)\n",
        "\n",
        "with open(ground_truth_file, 'r', encoding='utf-8') as f:\n",
        "    ground_truth_data = json.load(f)\n",
        "\n",
        "# แปลงเป็น dict สำหรับค้นหาง่าย\n",
        "gt_dict = {item['question']: item['answer'] for item in ground_truth_data}\n",
        "\n",
        "# ฟังก์ชันส่ง prompt\n",
        "def request_with_retry(json_data, retries=3, delay=10):\n",
        "    headers = {\n",
        "        \"Content-Type\": \"application/json\",\n",
        "        \"Authorization\": f\"Bearer {api_key}\"\n",
        "    }\n",
        "\n",
        "    for attempt in range(retries):\n",
        "        try:\n",
        "            response = requests.post(\n",
        "                \"https://api.together.xyz/v1/chat/completions\",\n",
        "                headers=headers,\n",
        "                json=json_data,\n",
        "                timeout=30\n",
        "            )\n",
        "            if response.status_code == 200:\n",
        "                return response.json()[\"choices\"][0][\"message\"][\"content\"].strip()\n",
        "            time.sleep(delay)\n",
        "        except requests.exceptions.RequestException as e:\n",
        "            time.sleep(delay)\n",
        "    return \"\"\n",
        "\n",
        "# ประเมินคำตอบทั้งหมด\n",
        "results = []\n",
        "for idx, item in enumerate(llm_answers, start=1):\n",
        "    question = item['question']\n",
        "    llm_answer = item['answer']\n",
        "    gt_answer = gt_dict.get(question)\n",
        "\n",
        "    if not gt_answer:\n",
        "        continue\n",
        "\n",
        "    prompt = f\"\"\"\n",
        "Please act as an unbiased evaluator and compare the following two answers:\n",
        "\n",
        "Question: {question}\n",
        "\n",
        "Ground Truth Answer: {gt_answer}\n",
        "\n",
        "LLM-Generated Answer: {llm_answer}\n",
        "\n",
        "Evaluate the LLM-generated answer against the ground truth based on the following criteria:\n",
        "- Relevance to the question\n",
        "- Alignment with the key ideas of the ground truth\n",
        "- Supportiveness and tone\n",
        "\n",
        "Give a score between 1 to 5:\n",
        "- 5 = Almost identical and very supportive\n",
        "- 4 = Mostly correct and supportive with minor issues\n",
        "- 3 = Somewhat relevant but missing key points\n",
        "- 2 = Weak or incorrect in key areas\n",
        "- 1 = Irrelevant or misleading\n",
        "\n",
        "Respond with a score and a short explanation (1–2 sentences only).\n",
        "\"\"\"\n",
        "\n",
        "    json_data = {\n",
        "        \"model\": \"meta-llama/llama-4-scout-17b-16e-instruct\",\n",
        "        \"messages\": [{\"role\": \"user\", \"content\": prompt}]\n",
        "    }\n",
        "\n",
        "    evaluation = request_with_retry(json_data)\n",
        "\n",
        "    print(f\"✅ ข้อที่ {len(results)+1}: ได้รับการประเมินแล้ว\")\n",
        "\n",
        "    results.append({\n",
        "        \"question\": question,\n",
        "        \"llm_answer\": llm_answer,\n",
        "        \"ground_truth\": gt_answer,\n",
        "        \"evaluation\": evaluation\n",
        "    })\n",
        "\n",
        "    # บันทึกผลลัพธ์ทันที\n",
        "    with open(judgement_output_file, 'w', encoding='utf-8') as f:\n",
        "        json.dump(results, f, ensure_ascii=False, indent=4)\n",
        "\n",
        "print(f\"✅ เสร็จสิ้นการประเมินทั้งหมด {len(results)} ข้อ\")\n"
      ],
      "metadata": {
        "id": "_uWPZwosurqv"
      },
      "execution_count": null,
      "outputs": []
    },
    {
      "cell_type": "code",
      "source": [
        "import json\n",
        "import re\n",
        "import matplotlib.pyplot as plt\n",
        "\n",
        "judgement_file =  '/content/drive/MyDrive/LockLearn/llm_judgement_scores2.json'\n",
        "\n",
        "# โหลดข้อมูล\n",
        "with open(judgement_file, 'r', encoding='utf-8') as f:\n",
        "    data = json.load(f)\n",
        "\n",
        "# นับคะแนน\n",
        "score_counts = {1: 0, 2: 0, 3: 0, 4: 0, 5: 0}\n",
        "score_pattern = re.compile(r\"\\b([1-5])\\b\")\n",
        "\n",
        "for item in data:\n",
        "    evaluation = item['evaluation']\n",
        "    match = score_pattern.search(evaluation)\n",
        "    if match:\n",
        "        score = int(match.group(1))\n",
        "        if score in score_counts:\n",
        "            score_counts[score] += 1\n",
        "\n",
        "# แสดงผลรวมแต่ละคะแนน\n",
        "print(\"คะแนนรวม:\")\n",
        "for score in range(1, 6):\n",
        "    print(f\"คะแนน {score}: {score_counts[score]}\")\n",
        "\n",
        "# พล็อตกราฟ\n",
        "plt.bar(score_counts.keys(), score_counts.values(), color='skyblue')\n",
        "plt.xlabel('points')\n",
        "plt.ylabel('Number of answers')\n",
        "plt.title('LLM Score Distribution')\n",
        "plt.xticks([1, 2, 3, 4, 5])\n",
        "plt.grid(axis='y', linestyle='--', alpha=0.7)\n",
        "plt.show()\n"
      ],
      "metadata": {
        "colab": {
          "base_uri": "https://localhost:8080/",
          "height": 576
        },
        "id": "uXw8ENZIu25q",
        "outputId": "e849da72-e811-4e84-8548-7a8051aace0b"
      },
      "execution_count": 2,
      "outputs": [
        {
          "output_type": "stream",
          "name": "stdout",
          "text": [
            "คะแนนรวม:\n",
            "คะแนน 1: 0\n",
            "คะแนน 2: 61\n",
            "คะแนน 3: 163\n",
            "คะแนน 4: 1130\n",
            "คะแนน 5: 15\n"
          ]
        },
        {
          "output_type": "display_data",
          "data": {
            "text/plain": [
              "<Figure size 640x480 with 1 Axes>"
            ],
            "image/png": "[encoded data removed]"
          },
          "metadata": {}
        }
      ]
    }
  ]
}